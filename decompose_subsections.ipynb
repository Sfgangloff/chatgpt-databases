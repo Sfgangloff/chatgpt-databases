{
 "cells": [
  {
   "cell_type": "code",
   "execution_count": 1,
   "metadata": {},
   "outputs": [],
   "source": [
    "from langchain_openai import ChatOpenAI\n",
    "llm = ChatOpenAI(temperature=0,model=\"gpt-3.5-turbo\")\n",
    "SUBJECT = \"molecular_biology\""
   ]
  },
  {
   "cell_type": "code",
   "execution_count": 2,
   "metadata": {},
   "outputs": [],
   "source": [
    "from section_decomposer import SectionDecomposer\n",
    "decomposer = SectionDecomposer(llm=llm)"
   ]
  },
  {
   "cell_type": "code",
   "execution_count": 3,
   "metadata": {},
   "outputs": [],
   "source": [
    "import yaml\n",
    "file_path = \"data/\"+SUBJECT+'/susub_table.yaml'\n",
    "\n",
    "with open(file_path, 'r') as yaml_file:\n",
    "    table_of_contents = yaml.safe_load(yaml_file)\n",
    "\n",
    "new_table = table_of_contents"
   ]
  },
  {
   "cell_type": "code",
   "execution_count": 4,
   "metadata": {},
   "outputs": [
    {
     "name": "stdout",
     "output_type": "stream",
     "text": [
      "content='{\\n  \"number\": 4,\\n  \"title\": \"Genetic Testing and Counseling\",\\n  \"subsections\": [\\n    {\\n      \"number\": 4,\\n      \"title\": \"Preimplantation Genetic Testing\"\\n    },\\n    {\\n      \"number\": 4,\\n      \"title\": \"Carrier Testing\"\\n    },\\n    {\\n      \"number\": 4,\\n      \"title\": \"Prenatal Genetic Testing\"\\n    },\\n    {\\n      \"number\": 4,\\n      \"title\": \"Diagnostic Genetic Testing\"\\n    },\\n    {\\n      \"number\": 4,\\n      \"title\": \"Genetic Counseling\"\\n    }\\n  ]\\n}'\n",
      "number=4 title='Genetic Testing and Counseling' subsections=[Subsection(number=4, title='Preimplantation Genetic Testing'), Subsection(number=4, title='Carrier Testing'), Subsection(number=4, title='Prenatal Genetic Testing'), Subsection(number=4, title='Diagnostic Genetic Testing'), Subsection(number=4, title='Genetic Counseling')]\n"
     ]
    },
    {
     "name": "stderr",
     "output_type": "stream",
     "text": [
      "C:\\Users\\SilvèreGangloff\\AppData\\Local\\Temp\\ipykernel_27820\\4027078509.py:11: PydanticDeprecatedSince20: The `dict` method is deprecated; use `model_dump` instead. Deprecated in Pydantic V2.0 to be removed in V3.0. See Pydantic V2 Migration Guide at https://errors.pydantic.dev/2.5/migration/\n",
      "  new_table[\"sections\"][j][\"subsections\"][k][\"subsubsections\"] = subsubsections.dict()[\"subsections\"]\n"
     ]
    },
    {
     "name": "stdout",
     "output_type": "stream",
     "text": [
      "content='{\"number\": 5, \"title\": \"Genome Editing\", \"subsections\": [{\"number\": 1, \"title\": \"CRISPR-Cas9\"}, {\"number\": 2, \"title\": \"Zinc Finger Nucleases\"}, {\"number\": 3, \"title\": \"TALENs\"}, {\"number\": 4, \"title\": \"Homologous Recombination\"}, {\"number\": 5, \"title\": \"Applications of Genome Editing\"}]}'\n",
      "number=5 title='Genome Editing' subsections=[Subsection(number=1, title='CRISPR-Cas9'), Subsection(number=2, title='Zinc Finger Nucleases'), Subsection(number=3, title='TALENs'), Subsection(number=4, title='Homologous Recombination'), Subsection(number=5, title='Applications of Genome Editing')]\n"
     ]
    },
    {
     "name": "stderr",
     "output_type": "stream",
     "text": [
      "C:\\Users\\SilvèreGangloff\\AppData\\Local\\Temp\\ipykernel_27820\\4027078509.py:11: PydanticDeprecatedSince20: The `dict` method is deprecated; use `model_dump` instead. Deprecated in Pydantic V2.0 to be removed in V3.0. See Pydantic V2 Migration Guide at https://errors.pydantic.dev/2.5/migration/\n",
      "  new_table[\"sections\"][j][\"subsections\"][k][\"subsubsections\"] = subsubsections.dict()[\"subsections\"]\n"
     ]
    },
    {
     "name": "stdout",
     "output_type": "stream",
     "text": [
      "content='{\\n  \"number\": 2,\\n  \"title\": \"Genome Sequencing\",\\n  \"subsections\": [\\n    {\\n      \"number\": 1,\\n      \"title\": \"Sanger Sequencing\"\\n    },\\n    {\\n      \"number\": 2,\\n      \"title\": \"Next-Generation Sequencing\"\\n    },\\n    {\\n      \"number\": 3,\\n      \"title\": \"Third-Generation Sequencing\"\\n    },\\n    {\\n      \"number\": 4,\\n      \"title\": \"Metagenomic Sequencing\"\\n    },\\n    {\\n      \"number\": 5,\\n      \"title\": \"Single-Cell Sequencing\"\\n    }\\n  ]\\n}'\n",
      "number=2 title='Genome Sequencing' subsections=[Subsection(number=1, title='Sanger Sequencing'), Subsection(number=2, title='Next-Generation Sequencing'), Subsection(number=3, title='Third-Generation Sequencing'), Subsection(number=4, title='Metagenomic Sequencing'), Subsection(number=5, title='Single-Cell Sequencing')]\n"
     ]
    },
    {
     "name": "stderr",
     "output_type": "stream",
     "text": [
      "C:\\Users\\SilvèreGangloff\\AppData\\Local\\Temp\\ipykernel_27820\\4027078509.py:11: PydanticDeprecatedSince20: The `dict` method is deprecated; use `model_dump` instead. Deprecated in Pydantic V2.0 to be removed in V3.0. See Pydantic V2 Migration Guide at https://errors.pydantic.dev/2.5/migration/\n",
      "  new_table[\"sections\"][j][\"subsections\"][k][\"subsubsections\"] = subsubsections.dict()[\"subsections\"]\n"
     ]
    },
    {
     "name": "stdout",
     "output_type": "stream",
     "text": [
      "content='{\"number\": 2, \"title\": \"Genome Annotation\", \"subsections\": [{\"number\": 1, \"title\": \"Gene Prediction\"}, {\"number\": 2, \"title\": \"Functional Annotation\"}, {\"number\": 3, \"title\": \"Structural Annotation\"}, {\"number\": 4, \"title\": \"Comparative Annotation\"}, {\"number\": 5, \"title\": \"Annotation Databases\"}]}'\n",
      "number=2 title='Genome Annotation' subsections=[Subsection(number=1, title='Gene Prediction'), Subsection(number=2, title='Functional Annotation'), Subsection(number=3, title='Structural Annotation'), Subsection(number=4, title='Comparative Annotation'), Subsection(number=5, title='Annotation Databases')]\n"
     ]
    },
    {
     "name": "stderr",
     "output_type": "stream",
     "text": [
      "C:\\Users\\SilvèreGangloff\\AppData\\Local\\Temp\\ipykernel_27820\\4027078509.py:11: PydanticDeprecatedSince20: The `dict` method is deprecated; use `model_dump` instead. Deprecated in Pydantic V2.0 to be removed in V3.0. See Pydantic V2 Migration Guide at https://errors.pydantic.dev/2.5/migration/\n",
      "  new_table[\"sections\"][j][\"subsections\"][k][\"subsubsections\"] = subsubsections.dict()[\"subsections\"]\n"
     ]
    },
    {
     "name": "stdout",
     "output_type": "stream",
     "text": [
      "content='{\\n  \"number\": 3,\\n  \"title\": \"Comparative Genomics\",\\n  \"subsections\": [\\n    {\\n      \"number\": 1,\\n      \"title\": \"Evolutionary Relationships\"\\n    },\\n    {\\n      \"number\": 2,\\n      \"title\": \"Gene Duplication\"\\n    },\\n    {\\n      \"number\": 3,\\n      \"title\": \"Ortholog Identification\"\\n    },\\n    {\\n      \"number\": 4,\\n      \"title\": \"Synteny Analysis\"\\n    },\\n    {\\n      \"number\": 5,\\n      \"title\": \"Phylogenetic Tree Construction\"\\n    }\\n  ]\\n}'\n",
      "number=3 title='Comparative Genomics' subsections=[Subsection(number=1, title='Evolutionary Relationships'), Subsection(number=2, title='Gene Duplication'), Subsection(number=3, title='Ortholog Identification'), Subsection(number=4, title='Synteny Analysis'), Subsection(number=5, title='Phylogenetic Tree Construction')]\n"
     ]
    },
    {
     "name": "stderr",
     "output_type": "stream",
     "text": [
      "C:\\Users\\SilvèreGangloff\\AppData\\Local\\Temp\\ipykernel_27820\\4027078509.py:11: PydanticDeprecatedSince20: The `dict` method is deprecated; use `model_dump` instead. Deprecated in Pydantic V2.0 to be removed in V3.0. See Pydantic V2 Migration Guide at https://errors.pydantic.dev/2.5/migration/\n",
      "  new_table[\"sections\"][j][\"subsections\"][k][\"subsubsections\"] = subsubsections.dict()[\"subsections\"]\n"
     ]
    },
    {
     "name": "stdout",
     "output_type": "stream",
     "text": [
      "content='{\\n  \"number\": 4,\\n  \"title\": \"Functional Genomics\",\\n  \"subsections\": [\\n    {\\n      \"number\": 1,\\n      \"title\": \"Gene Expression Profiling\"\\n    },\\n    {\\n      \"number\": 2,\\n      \"title\": \"Proteomics\"\\n    },\\n    {\\n      \"number\": 3,\\n      \"title\": \"Metabolomics\"\\n    },\\n    {\\n      \"number\": 4,\\n      \"title\": \"Functional Genomic Screens\"\\n    },\\n    {\\n      \"number\": 5,\\n      \"title\": \"Gene Ontology Analysis\"\\n    }\\n  ]\\n}'\n",
      "number=4 title='Functional Genomics' subsections=[Subsection(number=1, title='Gene Expression Profiling'), Subsection(number=2, title='Proteomics'), Subsection(number=3, title='Metabolomics'), Subsection(number=4, title='Functional Genomic Screens'), Subsection(number=5, title='Gene Ontology Analysis')]\n"
     ]
    },
    {
     "name": "stderr",
     "output_type": "stream",
     "text": [
      "C:\\Users\\SilvèreGangloff\\AppData\\Local\\Temp\\ipykernel_27820\\4027078509.py:11: PydanticDeprecatedSince20: The `dict` method is deprecated; use `model_dump` instead. Deprecated in Pydantic V2.0 to be removed in V3.0. See Pydantic V2 Migration Guide at https://errors.pydantic.dev/2.5/migration/\n",
      "  new_table[\"sections\"][j][\"subsections\"][k][\"subsubsections\"] = subsubsections.dict()[\"subsections\"]\n"
     ]
    },
    {
     "name": "stdout",
     "output_type": "stream",
     "text": [
      "content='{\\n  \"number\": 5,\\n  \"title\": \"Bioinformatics Tools and Databases\",\\n  \"subsections\": [\\n    {\\n      \"number\": 1,\\n      \"title\": \"Sequence Alignment Tools\"\\n    },\\n    {\\n      \"number\": 2,\\n      \"title\": \"Sequence Analysis Databases\"\\n    },\\n    {\\n      \"number\": 3,\\n      \"title\": \"Protein Structure Prediction Tools\"\\n    },\\n    {\\n      \"number\": 4,\\n      \"title\": \"Gene Expression Databases\"\\n    },\\n    {\\n      \"number\": 5,\\n      \"title\": \"Metagenomics Analysis Tools\"\\n    }\\n  ]\\n}'\n",
      "number=5 title='Bioinformatics Tools and Databases' subsections=[Subsection(number=1, title='Sequence Alignment Tools'), Subsection(number=2, title='Sequence Analysis Databases'), Subsection(number=3, title='Protein Structure Prediction Tools'), Subsection(number=4, title='Gene Expression Databases'), Subsection(number=5, title='Metagenomics Analysis Tools')]\n"
     ]
    },
    {
     "name": "stderr",
     "output_type": "stream",
     "text": [
      "C:\\Users\\SilvèreGangloff\\AppData\\Local\\Temp\\ipykernel_27820\\4027078509.py:11: PydanticDeprecatedSince20: The `dict` method is deprecated; use `model_dump` instead. Deprecated in Pydantic V2.0 to be removed in V3.0. See Pydantic V2 Migration Guide at https://errors.pydantic.dev/2.5/migration/\n",
      "  new_table[\"sections\"][j][\"subsections\"][k][\"subsubsections\"] = subsubsections.dict()[\"subsections\"]\n"
     ]
    },
    {
     "name": "stdout",
     "output_type": "stream",
     "text": [
      "content='{\"number\": 1, \"title\": \"Recombinant DNA Technology\", \"subsections\": [{\"number\": 1, \"title\": \"DNA Cloning\"}, {\"number\": 2, \"title\": \"Restriction Enzymes\"}, {\"number\": 3, \"title\": \"DNA Ligase\"}, {\"number\": 4, \"title\": \"Plasmid Vectors\"}, {\"number\": 5, \"title\": \"Transformation\"}]}'\n",
      "number=1 title='Recombinant DNA Technology' subsections=[Subsection(number=1, title='DNA Cloning'), Subsection(number=2, title='Restriction Enzymes'), Subsection(number=3, title='DNA Ligase'), Subsection(number=4, title='Plasmid Vectors'), Subsection(number=5, title='Transformation')]\n"
     ]
    },
    {
     "name": "stderr",
     "output_type": "stream",
     "text": [
      "C:\\Users\\SilvèreGangloff\\AppData\\Local\\Temp\\ipykernel_27820\\4027078509.py:11: PydanticDeprecatedSince20: The `dict` method is deprecated; use `model_dump` instead. Deprecated in Pydantic V2.0 to be removed in V3.0. See Pydantic V2 Migration Guide at https://errors.pydantic.dev/2.5/migration/\n",
      "  new_table[\"sections\"][j][\"subsections\"][k][\"subsubsections\"] = subsubsections.dict()[\"subsections\"]\n"
     ]
    },
    {
     "name": "stdout",
     "output_type": "stream",
     "text": [
      "content='{\"number\": 2, \"title\": \"Gene Cloning and Expression\", \"subsections\": [{\"number\": 1, \"title\": \"Gene Cloning Techniques\"}, {\"number\": 2, \"title\": \"Expression Systems\"}, {\"number\": 3, \"title\": \"Recombinant Protein Production\"}, {\"number\": 4, \"title\": \"Gene Expression Regulation\"}, {\"number\": 5, \"title\": \"Applications of Gene Cloning\"}]}'\n",
      "number=2 title='Gene Cloning and Expression' subsections=[Subsection(number=1, title='Gene Cloning Techniques'), Subsection(number=2, title='Expression Systems'), Subsection(number=3, title='Recombinant Protein Production'), Subsection(number=4, title='Gene Expression Regulation'), Subsection(number=5, title='Applications of Gene Cloning')]\n"
     ]
    },
    {
     "name": "stderr",
     "output_type": "stream",
     "text": [
      "C:\\Users\\SilvèreGangloff\\AppData\\Local\\Temp\\ipykernel_27820\\4027078509.py:11: PydanticDeprecatedSince20: The `dict` method is deprecated; use `model_dump` instead. Deprecated in Pydantic V2.0 to be removed in V3.0. See Pydantic V2 Migration Guide at https://errors.pydantic.dev/2.5/migration/\n",
      "  new_table[\"sections\"][j][\"subsections\"][k][\"subsubsections\"] = subsubsections.dict()[\"subsections\"]\n"
     ]
    },
    {
     "name": "stdout",
     "output_type": "stream",
     "text": [
      "content='{\\n  \"number\": 3,\\n  \"title\": \"Genetic Engineering\",\\n  \"subsections\": [\\n    {\\n      \"number\": 1,\\n      \"title\": \"Gene Editing\"\\n    },\\n    {\\n      \"number\": 2,\\n      \"title\": \"Gene Therapy\"\\n    },\\n    {\\n      \"number\": 3,\\n      \"title\": \"Genetically Modified Organisms\"\\n    },\\n    {\\n      \"number\": 4,\\n      \"title\": \"Designer Babies\"\\n    },\\n    {\\n      \"number\": 5,\\n      \"title\": \"Ethical Considerations\"\\n    }\\n  ]\\n}'\n",
      "number=3 title='Genetic Engineering' subsections=[Subsection(number=1, title='Gene Editing'), Subsection(number=2, title='Gene Therapy'), Subsection(number=3, title='Genetically Modified Organisms'), Subsection(number=4, title='Designer Babies'), Subsection(number=5, title='Ethical Considerations')]\n"
     ]
    },
    {
     "name": "stderr",
     "output_type": "stream",
     "text": [
      "C:\\Users\\SilvèreGangloff\\AppData\\Local\\Temp\\ipykernel_27820\\4027078509.py:11: PydanticDeprecatedSince20: The `dict` method is deprecated; use `model_dump` instead. Deprecated in Pydantic V2.0 to be removed in V3.0. See Pydantic V2 Migration Guide at https://errors.pydantic.dev/2.5/migration/\n",
      "  new_table[\"sections\"][j][\"subsections\"][k][\"subsubsections\"] = subsubsections.dict()[\"subsections\"]\n"
     ]
    },
    {
     "name": "stdout",
     "output_type": "stream",
     "text": [
      "content='{\"number\": 4, \"title\": \"Transgenic Organisms\", \"subsections\": [{\"number\": 1, \"title\": \"Introduction to Transgenic Organisms\"}, {\"number\": 2, \"title\": \"Methods of Creating Transgenic Organisms\"}, {\"number\": 3, \"title\": \"Applications of Transgenic Organisms in Medicine\"}, {\"number\": 4, \"title\": \"Applications of Transgenic Organisms in Agriculture\"}, {\"number\": 5, \"title\": \"Ethical Considerations of Transgenic Organisms\"}]}'\n",
      "number=4 title='Transgenic Organisms' subsections=[Subsection(number=1, title='Introduction to Transgenic Organisms'), Subsection(number=2, title='Methods of Creating Transgenic Organisms'), Subsection(number=3, title='Applications of Transgenic Organisms in Medicine'), Subsection(number=4, title='Applications of Transgenic Organisms in Agriculture'), Subsection(number=5, title='Ethical Considerations of Transgenic Organisms')]\n"
     ]
    },
    {
     "name": "stderr",
     "output_type": "stream",
     "text": [
      "C:\\Users\\SilvèreGangloff\\AppData\\Local\\Temp\\ipykernel_27820\\4027078509.py:11: PydanticDeprecatedSince20: The `dict` method is deprecated; use `model_dump` instead. Deprecated in Pydantic V2.0 to be removed in V3.0. See Pydantic V2 Migration Guide at https://errors.pydantic.dev/2.5/migration/\n",
      "  new_table[\"sections\"][j][\"subsections\"][k][\"subsubsections\"] = subsubsections.dict()[\"subsections\"]\n"
     ]
    },
    {
     "name": "stdout",
     "output_type": "stream",
     "text": [
      "content='{\\n  \"number\": 5,\\n  \"title\": \"Applications in Medicine and Agriculture\",\\n  \"subsections\": [\\n    {\\n      \"number\": 1,\\n      \"title\": \"Medical Applications\"\\n    },\\n    {\\n      \"number\": 2,\\n      \"title\": \"Agricultural Applications\"\\n    }\\n  ]\\n}'\n",
      "number=5 title='Applications in Medicine and Agriculture' subsections=[Subsection(number=1, title='Medical Applications'), Subsection(number=2, title='Agricultural Applications')]\n"
     ]
    },
    {
     "name": "stderr",
     "output_type": "stream",
     "text": [
      "C:\\Users\\SilvèreGangloff\\AppData\\Local\\Temp\\ipykernel_27820\\4027078509.py:11: PydanticDeprecatedSince20: The `dict` method is deprecated; use `model_dump` instead. Deprecated in Pydantic V2.0 to be removed in V3.0. See Pydantic V2 Migration Guide at https://errors.pydantic.dev/2.5/migration/\n",
      "  new_table[\"sections\"][j][\"subsections\"][k][\"subsubsections\"] = subsubsections.dict()[\"subsections\"]\n"
     ]
    },
    {
     "name": "stdout",
     "output_type": "stream",
     "text": [
      "content='{\\n  \"number\": 1,\\n  \"title\": \"Cell Communication\",\\n  \"subsections\": [\\n    {\\n      \"number\": 1,\\n      \"title\": \"Cell Signaling Pathways\"\\n    },\\n    {\\n      \"number\": 2,\\n      \"title\": \"Signal Transduction\"\\n    },\\n    {\\n      \"number\": 3,\\n      \"title\": \"Receptor Proteins\"\\n    },\\n    {\\n      \"number\": 4,\\n      \"title\": \"Intracellular Signaling\"\\n    },\\n    {\\n      \"number\": 5,\\n      \"title\": \"Cell Signaling and Disease\"\\n    }\\n  ]\\n}'\n",
      "number=1 title='Cell Communication' subsections=[Subsection(number=1, title='Cell Signaling Pathways'), Subsection(number=2, title='Signal Transduction'), Subsection(number=3, title='Receptor Proteins'), Subsection(number=4, title='Intracellular Signaling'), Subsection(number=5, title='Cell Signaling and Disease')]\n"
     ]
    },
    {
     "name": "stderr",
     "output_type": "stream",
     "text": [
      "C:\\Users\\SilvèreGangloff\\AppData\\Local\\Temp\\ipykernel_27820\\4027078509.py:11: PydanticDeprecatedSince20: The `dict` method is deprecated; use `model_dump` instead. Deprecated in Pydantic V2.0 to be removed in V3.0. See Pydantic V2 Migration Guide at https://errors.pydantic.dev/2.5/migration/\n",
      "  new_table[\"sections\"][j][\"subsections\"][k][\"subsubsections\"] = subsubsections.dict()[\"subsections\"]\n"
     ]
    },
    {
     "name": "stdout",
     "output_type": "stream",
     "text": [
      "content='{\"number\": 2, \"title\": \"Signal Transduction Pathways\", \"subsections\": [{\"number\": 1, \"title\": \"G Protein-Coupled Receptors\"}, {\"number\": 2, \"title\": \"Receptor Tyrosine Kinases\"}, {\"number\": 3, \"title\": \"Second Messenger Systems\"}, {\"number\": 4, \"title\": \"MAP Kinase Pathway\"}, {\"number\": 5, \"title\": \"Notch Signaling\"}]}'\n",
      "number=2 title='Signal Transduction Pathways' subsections=[Subsection(number=1, title='G Protein-Coupled Receptors'), Subsection(number=2, title='Receptor Tyrosine Kinases'), Subsection(number=3, title='Second Messenger Systems'), Subsection(number=4, title='MAP Kinase Pathway'), Subsection(number=5, title='Notch Signaling')]\n"
     ]
    },
    {
     "name": "stderr",
     "output_type": "stream",
     "text": [
      "C:\\Users\\SilvèreGangloff\\AppData\\Local\\Temp\\ipykernel_27820\\4027078509.py:11: PydanticDeprecatedSince20: The `dict` method is deprecated; use `model_dump` instead. Deprecated in Pydantic V2.0 to be removed in V3.0. See Pydantic V2 Migration Guide at https://errors.pydantic.dev/2.5/migration/\n",
      "  new_table[\"sections\"][j][\"subsections\"][k][\"subsubsections\"] = subsubsections.dict()[\"subsections\"]\n"
     ]
    },
    {
     "name": "stdout",
     "output_type": "stream",
     "text": [
      "content='{\"number\": 3, \"title\": \"Receptor Proteins\", \"subsections\": [{\"number\": 1, \"title\": \"G Protein-Coupled Receptors\"}, {\"number\": 2, \"title\": \"Ion Channel Receptors\"}, {\"number\": 3, \"title\": \"Enzyme-Linked Receptors\"}, {\"number\": 4, \"title\": \"Nuclear Receptors\"}, {\"number\": 5, \"title\": \"Cytokine Receptors\"}]}'\n",
      "number=3 title='Receptor Proteins' subsections=[Subsection(number=1, title='G Protein-Coupled Receptors'), Subsection(number=2, title='Ion Channel Receptors'), Subsection(number=3, title='Enzyme-Linked Receptors'), Subsection(number=4, title='Nuclear Receptors'), Subsection(number=5, title='Cytokine Receptors')]\n"
     ]
    },
    {
     "name": "stderr",
     "output_type": "stream",
     "text": [
      "C:\\Users\\SilvèreGangloff\\AppData\\Local\\Temp\\ipykernel_27820\\4027078509.py:11: PydanticDeprecatedSince20: The `dict` method is deprecated; use `model_dump` instead. Deprecated in Pydantic V2.0 to be removed in V3.0. See Pydantic V2 Migration Guide at https://errors.pydantic.dev/2.5/migration/\n",
      "  new_table[\"sections\"][j][\"subsections\"][k][\"subsubsections\"] = subsubsections.dict()[\"subsections\"]\n"
     ]
    },
    {
     "name": "stdout",
     "output_type": "stream",
     "text": [
      "content='{\\n  \"number\": 4,\\n  \"title\": \"Intracellular Signaling\",\\n  \"subsections\": [\\n    {\\n      \"number\": 1,\\n      \"title\": \"Second Messenger Signaling\"\\n    },\\n    {\\n      \"number\": 2,\\n      \"title\": \"Protein Kinase Signaling\"\\n    },\\n    {\\n      \"number\": 3,\\n      \"title\": \"G Protein Signaling\"\\n    },\\n    {\\n      \"number\": 4,\\n      \"title\": \"Calcium Signaling\"\\n    },\\n    {\\n      \"number\": 5,\\n      \"title\": \"MAP Kinase Signaling\"\\n    }\\n  ]\\n}'\n",
      "number=4 title='Intracellular Signaling' subsections=[Subsection(number=1, title='Second Messenger Signaling'), Subsection(number=2, title='Protein Kinase Signaling'), Subsection(number=3, title='G Protein Signaling'), Subsection(number=4, title='Calcium Signaling'), Subsection(number=5, title='MAP Kinase Signaling')]\n"
     ]
    },
    {
     "name": "stderr",
     "output_type": "stream",
     "text": [
      "C:\\Users\\SilvèreGangloff\\AppData\\Local\\Temp\\ipykernel_27820\\4027078509.py:11: PydanticDeprecatedSince20: The `dict` method is deprecated; use `model_dump` instead. Deprecated in Pydantic V2.0 to be removed in V3.0. See Pydantic V2 Migration Guide at https://errors.pydantic.dev/2.5/migration/\n",
      "  new_table[\"sections\"][j][\"subsections\"][k][\"subsubsections\"] = subsubsections.dict()[\"subsections\"]\n"
     ]
    },
    {
     "name": "stdout",
     "output_type": "stream",
     "text": [
      "content='{\\n  \"number\": 5,\\n  \"title\": \"Cell Signaling and Disease\",\\n  \"subsections\": [\\n    {\\n      \"number\": 1,\\n      \"title\": \"Cancer and Cell Signaling\"\\n    },\\n    {\\n      \"number\": 2,\\n      \"title\": \"Neurodegenerative Diseases and Cell Signaling\"\\n    },\\n    {\\n      \"number\": 3,\\n      \"title\": \"Cardiovascular Diseases and Cell Signaling\"\\n    },\\n    {\\n      \"number\": 4,\\n      \"title\": \"Immune Disorders and Cell Signaling\"\\n    },\\n    {\\n      \"number\": 5,\\n      \"title\": \"Metabolic Disorders and Cell Signaling\"\\n    }\\n  ]\\n}'\n",
      "number=5 title='Cell Signaling and Disease' subsections=[Subsection(number=1, title='Cancer and Cell Signaling'), Subsection(number=2, title='Neurodegenerative Diseases and Cell Signaling'), Subsection(number=3, title='Cardiovascular Diseases and Cell Signaling'), Subsection(number=4, title='Immune Disorders and Cell Signaling'), Subsection(number=5, title='Metabolic Disorders and Cell Signaling')]\n"
     ]
    },
    {
     "name": "stderr",
     "output_type": "stream",
     "text": [
      "C:\\Users\\SilvèreGangloff\\AppData\\Local\\Temp\\ipykernel_27820\\4027078509.py:11: PydanticDeprecatedSince20: The `dict` method is deprecated; use `model_dump` instead. Deprecated in Pydantic V2.0 to be removed in V3.0. See Pydantic V2 Migration Guide at https://errors.pydantic.dev/2.5/migration/\n",
      "  new_table[\"sections\"][j][\"subsections\"][k][\"subsubsections\"] = subsubsections.dict()[\"subsections\"]\n"
     ]
    },
    {
     "name": "stdout",
     "output_type": "stream",
     "text": [
      "content='{\"number\": 1, \"title\": \"Cancer Development and Progression\", \"subsections\": [{\"number\": 1, \"title\": \"Initiation\"}, {\"number\": 2, \"title\": \"Promotion\"}, {\"number\": 3, \"title\": \"Progression\"}, {\"number\": 4, \"title\": \"Metastasis\"}, {\"number\": 5, \"title\": \"Angiogenesis\"}]}'\n",
      "number=1 title='Cancer Development and Progression' subsections=[Subsection(number=1, title='Initiation'), Subsection(number=2, title='Promotion'), Subsection(number=3, title='Progression'), Subsection(number=4, title='Metastasis'), Subsection(number=5, title='Angiogenesis')]\n"
     ]
    },
    {
     "name": "stderr",
     "output_type": "stream",
     "text": [
      "C:\\Users\\SilvèreGangloff\\AppData\\Local\\Temp\\ipykernel_27820\\4027078509.py:11: PydanticDeprecatedSince20: The `dict` method is deprecated; use `model_dump` instead. Deprecated in Pydantic V2.0 to be removed in V3.0. See Pydantic V2 Migration Guide at https://errors.pydantic.dev/2.5/migration/\n",
      "  new_table[\"sections\"][j][\"subsections\"][k][\"subsubsections\"] = subsubsections.dict()[\"subsections\"]\n"
     ]
    },
    {
     "name": "stdout",
     "output_type": "stream",
     "text": [
      "content='{\"number\": 2, \"title\": \"Oncogenes and Tumor Suppressor Genes\", \"subsections\": [{\"number\": 1, \"title\": \"Oncogenes\"}, {\"number\": 2, \"title\": \"Tumor Suppressor Genes\"}]}'\n",
      "number=2 title='Oncogenes and Tumor Suppressor Genes' subsections=[Subsection(number=1, title='Oncogenes'), Subsection(number=2, title='Tumor Suppressor Genes')]\n"
     ]
    },
    {
     "name": "stderr",
     "output_type": "stream",
     "text": [
      "C:\\Users\\SilvèreGangloff\\AppData\\Local\\Temp\\ipykernel_27820\\4027078509.py:11: PydanticDeprecatedSince20: The `dict` method is deprecated; use `model_dump` instead. Deprecated in Pydantic V2.0 to be removed in V3.0. See Pydantic V2 Migration Guide at https://errors.pydantic.dev/2.5/migration/\n",
      "  new_table[\"sections\"][j][\"subsections\"][k][\"subsubsections\"] = subsubsections.dict()[\"subsections\"]\n"
     ]
    },
    {
     "name": "stdout",
     "output_type": "stream",
     "text": [
      "content='{\"number\": 3, \"title\": \"Cancer Genetics\", \"subsections\": [{\"number\": 1, \"title\": \"Genetic Mutations in Cancer\"}, {\"number\": 2, \"title\": \"Inherited Cancer Syndromes\"}, {\"number\": 3, \"title\": \"Epigenetic Changes in Cancer\"}, {\"number\": 4, \"title\": \"Genomic Instability in Cancer\"}, {\"number\": 5, \"title\": \"Cancer Genomics\"}]}'\n",
      "number=3 title='Cancer Genetics' subsections=[Subsection(number=1, title='Genetic Mutations in Cancer'), Subsection(number=2, title='Inherited Cancer Syndromes'), Subsection(number=3, title='Epigenetic Changes in Cancer'), Subsection(number=4, title='Genomic Instability in Cancer'), Subsection(number=5, title='Cancer Genomics')]\n"
     ]
    },
    {
     "name": "stderr",
     "output_type": "stream",
     "text": [
      "C:\\Users\\SilvèreGangloff\\AppData\\Local\\Temp\\ipykernel_27820\\4027078509.py:11: PydanticDeprecatedSince20: The `dict` method is deprecated; use `model_dump` instead. Deprecated in Pydantic V2.0 to be removed in V3.0. See Pydantic V2 Migration Guide at https://errors.pydantic.dev/2.5/migration/\n",
      "  new_table[\"sections\"][j][\"subsections\"][k][\"subsubsections\"] = subsubsections.dict()[\"subsections\"]\n"
     ]
    },
    {
     "name": "stdout",
     "output_type": "stream",
     "text": [
      "content='{\\n  \"number\": 4,\\n  \"title\": \"Cancer Therapies\",\\n  \"subsections\": [\\n    {\\n      \"number\": 1,\\n      \"title\": \"Chemotherapy\"\\n    },\\n    {\\n      \"number\": 2,\\n      \"title\": \"Radiation Therapy\"\\n    },\\n    {\\n      \"number\": 3,\\n      \"title\": \"Immunotherapy\"\\n    },\\n    {\\n      \"number\": 4,\\n      \"title\": \"Targeted Therapy\"\\n    },\\n    {\\n      \"number\": 5,\\n      \"title\": \"Hormone Therapy\"\\n    }\\n  ]\\n}'\n",
      "number=4 title='Cancer Therapies' subsections=[Subsection(number=1, title='Chemotherapy'), Subsection(number=2, title='Radiation Therapy'), Subsection(number=3, title='Immunotherapy'), Subsection(number=4, title='Targeted Therapy'), Subsection(number=5, title='Hormone Therapy')]\n"
     ]
    },
    {
     "name": "stderr",
     "output_type": "stream",
     "text": [
      "C:\\Users\\SilvèreGangloff\\AppData\\Local\\Temp\\ipykernel_27820\\4027078509.py:11: PydanticDeprecatedSince20: The `dict` method is deprecated; use `model_dump` instead. Deprecated in Pydantic V2.0 to be removed in V3.0. See Pydantic V2 Migration Guide at https://errors.pydantic.dev/2.5/migration/\n",
      "  new_table[\"sections\"][j][\"subsections\"][k][\"subsubsections\"] = subsubsections.dict()[\"subsections\"]\n"
     ]
    },
    {
     "name": "stdout",
     "output_type": "stream",
     "text": [
      "content='{\"number\": 5, \"title\": \"Cancer Research and Future Directions\", \"subsections\": [{\"number\": 1, \"title\": \"Advances in Cancer Research\"}, {\"number\": 2, \"title\": \"Emerging Technologies in Cancer Research\"}, {\"number\": 3, \"title\": \"Precision Medicine in Cancer Research\"}, {\"number\": 4, \"title\": \"Immunotherapy in Cancer Research\"}, {\"number\": 5, \"title\": \"Future Directions in Cancer Research\"}]}'\n",
      "number=5 title='Cancer Research and Future Directions' subsections=[Subsection(number=1, title='Advances in Cancer Research'), Subsection(number=2, title='Emerging Technologies in Cancer Research'), Subsection(number=3, title='Precision Medicine in Cancer Research'), Subsection(number=4, title='Immunotherapy in Cancer Research'), Subsection(number=5, title='Future Directions in Cancer Research')]\n"
     ]
    },
    {
     "name": "stderr",
     "output_type": "stream",
     "text": [
      "C:\\Users\\SilvèreGangloff\\AppData\\Local\\Temp\\ipykernel_27820\\4027078509.py:11: PydanticDeprecatedSince20: The `dict` method is deprecated; use `model_dump` instead. Deprecated in Pydantic V2.0 to be removed in V3.0. See Pydantic V2 Migration Guide at https://errors.pydantic.dev/2.5/migration/\n",
      "  new_table[\"sections\"][j][\"subsections\"][k][\"subsubsections\"] = subsubsections.dict()[\"subsections\"]\n"
     ]
    }
   ],
   "source": [
    "sections = table_of_contents[\"sections\"]\n",
    "for j,section in enumerate(sections):\n",
    "    subsections_titles = [subsection[\"title\"] for subsection in section[\"subsections\"]]\n",
    "    for k,subsection in enumerate(section[\"subsections\"]):\n",
    "        if \"subsubsections\" not in new_table[\"sections\"][j][\"subsections\"][k].keys():\n",
    "            subsubsections = decomposer.generate(subject=SUBJECT,\n",
    "                                        section_title=section[\"title\"],\n",
    "                                        subsection_title=subsection[\"title\"],\n",
    "                                        subsections_titles=subsections_titles\n",
    "                                        )\n",
    "            new_table[\"sections\"][j][\"subsections\"][k][\"subsubsections\"] = subsubsections.dict()[\"subsections\"]"
   ]
  },
  {
   "cell_type": "code",
   "execution_count": 5,
   "metadata": {},
   "outputs": [],
   "source": [
    "file_path = \"data/\"+SUBJECT+'/susub_table.yaml'\n",
    "\n",
    "with open(file_path, 'w') as yaml_file:\n",
    "    yaml.dump(new_table, yaml_file)"
   ]
  }
 ],
 "metadata": {
  "kernelspec": {
   "display_name": ".venv",
   "language": "python",
   "name": "python3"
  },
  "language_info": {
   "codemirror_mode": {
    "name": "ipython",
    "version": 3
   },
   "file_extension": ".py",
   "mimetype": "text/x-python",
   "name": "python",
   "nbconvert_exporter": "python",
   "pygments_lexer": "ipython3",
   "version": "3.11.3"
  }
 },
 "nbformat": 4,
 "nbformat_minor": 2
}
