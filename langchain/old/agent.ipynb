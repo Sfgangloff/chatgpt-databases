{
 "cells": [
  {
   "cell_type": "code",
   "execution_count": 4,
   "metadata": {},
   "outputs": [
    {
     "data": {
      "text/plain": [
       "True"
      ]
     },
     "execution_count": 4,
     "metadata": {},
     "output_type": "execute_result"
    }
   ],
   "source": [
    "from langchain_openai import OpenAI\n",
    "from langchain.prompts import PromptTemplate\n",
    "from langchain.chains import LLMChain\n",
    "from langchain_experimental.agents.agent_toolkits import create_pandas_dataframe_agent\n",
    "from langchain.agents import load_tools,initialize_agent\n",
    "from langchain.agents import AgentType\n",
    "from dotenv import load_dotenv\n",
    "\n",
    "import re\n",
    "import pandas as pd\n",
    "import numpy as np\n",
    "\n",
    "load_dotenv()"
   ]
  },
  {
   "cell_type": "code",
   "execution_count": 5,
   "metadata": {},
   "outputs": [],
   "source": [
    "from langchain.agents.agent_types import AgentType\n",
    "\n",
    "from langchain_openai import ChatOpenAI\n",
    "\n",
    "import pandas as pd\n",
    "from langchain_openai import OpenAI\n",
    "\n",
    "df = pd.read_csv(\"backwards_files/molecular_biology.csv\")"
   ]
  },
  {
   "cell_type": "code",
   "execution_count": 16,
   "metadata": {},
   "outputs": [
    {
     "name": "stdout",
     "output_type": "stream",
     "text": [
      "\n",
      "\n",
      "\u001b[1m> Entering new AgentExecutor chain...\u001b[0m\n",
      "\u001b[32;1m\u001b[1;3m\n",
      "Invoking: `python_repl_ast` with `{'query': \"df['CONCEPT'].value_counts().head(10)\"}`\n",
      "\n",
      "\n",
      "\u001b[0m\u001b[36;1m\u001b[1;3mCONCEPT\n",
      "Genetic recombination    728\n",
      "Gene expression          644\n",
      "Transcription            545\n",
      "Translation              522\n",
      "Genetic code             399\n",
      "Protein synthesis        343\n",
      "DNA replication          320\n",
      "DNA                      314\n",
      "RNA                      302\n",
      "Gene regulation          278\n",
      "Name: count, dtype: int64\u001b[0m\u001b[32;1m\u001b[1;3mThe ten most recurrent words in the \"CONCEPT\" column are:\n",
      "\n",
      "1. Genetic recombination - 728 occurrences\n",
      "2. Gene expression - 644 occurrences\n",
      "3. Transcription - 545 occurrences\n",
      "4. Translation - 522 occurrences\n",
      "5. Genetic code - 399 occurrences\n",
      "6. Protein synthesis - 343 occurrences\n",
      "7. DNA replication - 320 occurrences\n",
      "8. DNA - 314 occurrences\n",
      "9. RNA - 302 occurrences\n",
      "10. Gene regulation - 278 occurrences\u001b[0m\n",
      "\n",
      "\u001b[1m> Finished chain.\u001b[0m\n"
     ]
    },
    {
     "data": {
      "text/plain": [
       "'The ten most recurrent words in the \"CONCEPT\" column are:\\n\\n1. Genetic recombination - 728 occurrences\\n2. Gene expression - 644 occurrences\\n3. Transcription - 545 occurrences\\n4. Translation - 522 occurrences\\n5. Genetic code - 399 occurrences\\n6. Protein synthesis - 343 occurrences\\n7. DNA replication - 320 occurrences\\n8. DNA - 314 occurrences\\n9. RNA - 302 occurrences\\n10. Gene regulation - 278 occurrences'"
      ]
     },
     "execution_count": 16,
     "metadata": {},
     "output_type": "execute_result"
    }
   ],
   "source": [
    "agent = create_pandas_dataframe_agent(\n",
    "    ChatOpenAI(temperature=0, model=\"gpt-3.5-turbo-0613\"),\n",
    "    df,\n",
    "    verbose=True,\n",
    "    agent_type=AgentType.OPENAI_FUNCTIONS,\n",
    ")\n",
    "\n",
    "agent.run(\"What are the ten most recurrent word in there ?\")"
   ]
  }
 ],
 "metadata": {
  "kernelspec": {
   "display_name": ".venv",
   "language": "python",
   "name": "python3"
  },
  "language_info": {
   "codemirror_mode": {
    "name": "ipython",
    "version": 3
   },
   "file_extension": ".py",
   "mimetype": "text/x-python",
   "name": "python",
   "nbconvert_exporter": "python",
   "pygments_lexer": "ipython3",
   "version": "3.11.3"
  }
 },
 "nbformat": 4,
 "nbformat_minor": 2
}
