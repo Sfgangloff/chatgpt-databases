{
 "cells": [
  {
   "cell_type": "code",
   "execution_count": 1,
   "metadata": {},
   "outputs": [],
   "source": [
    "from langchain_openai import ChatOpenAI\n",
    "llm = ChatOpenAI(temperature=0,model=\"gpt-3.5-turbo\")\n",
    "SUBJECT = \"molecular_biology\""
   ]
  },
  {
   "cell_type": "code",
   "execution_count": 2,
   "metadata": {},
   "outputs": [],
   "source": [
    "from part import Part\n",
    "part = Part(llm=llm)"
   ]
  },
  {
   "cell_type": "code",
   "execution_count": 3,
   "metadata": {},
   "outputs": [],
   "source": [
    "import yaml\n",
    "file_path = \"data/\"+SUBJECT+'/with_text_w.yaml'\n",
    "\n",
    "with open(file_path, 'r') as yaml_file:\n",
    "    table_of_contents = yaml.safe_load(yaml_file)\n",
    "\n",
    "new_table = table_of_contents"
   ]
  },
  {
   "cell_type": "code",
   "execution_count": 4,
   "metadata": {},
   "outputs": [],
   "source": [
    "sections = table_of_contents[\"sections\"]\n",
    "for j,section in enumerate(sections): \n",
    "    for k,subsection in enumerate(section[\"subsections\"]):\n",
    "        for l,subsubsection in enumerate(subsection[\"subsubsections\"]):\n",
    "            if \"content\" not in new_table[\"sections\"][j][\"subsections\"][k][\"subsubsections\"][l].keys():\n",
    "                index = [index_element[\"word\"] for index_element in subsubsection[\"index\"][\"words\"]]\n",
    "                part_text = part.generate(subject=SUBJECT,\n",
    "                                            title=subsection[\"title\"],\n",
    "                                            index=index)\n",
    "                new_table[\"sections\"][j][\"subsections\"][k][\"subsubsections\"][l][\"content\"] = part_text.dict() ## .model_dump(mode='json')"
   ]
  },
  {
   "cell_type": "code",
   "execution_count": null,
   "metadata": {},
   "outputs": [],
   "source": [
    "file_path = \"data/\"+SUBJECT+'/with_text_w.yaml'\n",
    "\n",
    "with open(file_path, 'w') as yaml_file:\n",
    "    yaml.dump(new_table, yaml_file)"
   ]
  }
 ],
 "metadata": {
  "kernelspec": {
   "display_name": ".venv",
   "language": "python",
   "name": "python3"
  },
  "language_info": {
   "codemirror_mode": {
    "name": "ipython",
    "version": 3
   },
   "file_extension": ".py",
   "mimetype": "text/x-python",
   "name": "python",
   "nbconvert_exporter": "python",
   "pygments_lexer": "ipython3",
   "version": "3.11.3"
  }
 },
 "nbformat": 4,
 "nbformat_minor": 2
}
